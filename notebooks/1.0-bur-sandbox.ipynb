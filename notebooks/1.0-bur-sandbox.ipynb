{
 "cells": [
  {
   "cell_type": "code",
   "execution_count": 1,
   "metadata": {},
   "outputs": [],
   "source": [
    "import torch\n",
    "from torch import nn\n",
    "import torchmetrics\n",
    "\n",
    "import wandb\n",
    "\n",
    "import os\n",
    "from glob import glob\n",
    "import json\n",
    "\n",
    "import torch\n",
    "from torch.utils.data import Dataset\n",
    "\n",
    "import rasterio\n",
    "\n",
    "import numpy as np\n",
    "\n",
    "import segmentation_models_pytorch as smp\n",
    "\n",
    "import timm"
   ]
  },
  {
   "cell_type": "markdown",
   "metadata": {},
   "source": [
    "# Confusion matrix WandB"
   ]
  },
  {
   "cell_type": "code",
   "execution_count": 2,
   "metadata": {},
   "outputs": [
    {
     "name": "stderr",
     "output_type": "stream",
     "text": [
      "Failed to detect the name of this notebook, you can set it manually with the WANDB_NOTEBOOK_NAME environment variable to enable code saving.\n",
      "\u001b[34m\u001b[1mwandb\u001b[0m: Currently logged in as: \u001b[33murgellbapt\u001b[0m. Use \u001b[1m`wandb login --relogin`\u001b[0m to force relogin\n"
     ]
    },
    {
     "data": {
      "text/html": [
       "Tracking run with wandb version 0.15.5"
      ],
      "text/plain": [
       "<IPython.core.display.HTML object>"
      ]
     },
     "metadata": {},
     "output_type": "display_data"
    },
    {
     "data": {
      "text/html": [
       "Run data is saved locally in <code>/Users/titou/Documents/flair-2/notebooks/wandb/run-20230724_224014-f8tglpo6</code>"
      ],
      "text/plain": [
       "<IPython.core.display.HTML object>"
      ]
     },
     "metadata": {},
     "output_type": "display_data"
    },
    {
     "data": {
      "text/html": [
       "Syncing run <strong><a href='https://wandb.ai/urgellbapt/developpement/runs/f8tglpo6' target=\"_blank\">exalted-water-9</a></strong> to <a href='https://wandb.ai/urgellbapt/developpement' target=\"_blank\">Weights & Biases</a> (<a href='https://wandb.me/run' target=\"_blank\">docs</a>)<br/>"
      ],
      "text/plain": [
       "<IPython.core.display.HTML object>"
      ]
     },
     "metadata": {},
     "output_type": "display_data"
    },
    {
     "data": {
      "text/html": [
       " View project at <a href='https://wandb.ai/urgellbapt/developpement' target=\"_blank\">https://wandb.ai/urgellbapt/developpement</a>"
      ],
      "text/plain": [
       "<IPython.core.display.HTML object>"
      ]
     },
     "metadata": {},
     "output_type": "display_data"
    },
    {
     "data": {
      "text/html": [
       " View run at <a href='https://wandb.ai/urgellbapt/developpement/runs/f8tglpo6' target=\"_blank\">https://wandb.ai/urgellbapt/developpement/runs/f8tglpo6</a>"
      ],
      "text/plain": [
       "<IPython.core.display.HTML object>"
      ]
     },
     "metadata": {},
     "output_type": "display_data"
    },
    {
     "data": {
      "text/html": [
       "<button onClick=\"this.nextSibling.style.display='block';this.style.display='none';\">Display W&B run</button><iframe src='https://wandb.ai/urgellbapt/developpement/runs/f8tglpo6?jupyter=true' style='border:none;width:100%;height:420px;display:none;'></iframe>"
      ],
      "text/plain": [
       "<wandb.sdk.wandb_run.Run at 0x14356d150>"
      ]
     },
     "execution_count": 2,
     "metadata": {},
     "output_type": "execute_result"
    }
   ],
   "source": [
    "wandb.init(\n",
    "    entity='urgellbapt',\n",
    "    project='developpement',\n",
    "    group='ConfusionMatrix',\n",
    ")"
   ]
  },
  {
   "cell_type": "code",
   "execution_count": 3,
   "metadata": {},
   "outputs": [],
   "source": [
    "class ConfusionMatrix(torchmetrics.Metric):\n",
    "    def __init__(self, classes) -> None:\n",
    "        super().__init__()\n",
    "        \n",
    "        self.target = []\n",
    "        self.preds = []\n",
    "        self.classes = classes\n",
    "    \n",
    "    def update(self, preds, target):\n",
    "        self.target.append(target)\n",
    "        self.preds.append(preds)\n",
    "    \n",
    "    def compute(self):\n",
    "        target = torch.cat(self.target, dim=0)\n",
    "        target = torch.flatten(target)\n",
    "        target = target.tolist()\n",
    "        \n",
    "        preds = torch.cat(self.preds, dim=0)\n",
    "        # preds = torch.argmax(preds, dim=3)\n",
    "        preds = torch.flatten(preds, start_dim=0, end_dim=2)\n",
    "        preds = preds\n",
    "        \n",
    "        return wandb.plot.confusion_matrix(probs=preds, y_true=target, class_names=self.classes)\n",
    "        \n",
    "        \n",
    "    def reset(self):\n",
    "        self.target = []\n",
    "        self.preds = []"
   ]
  },
  {
   "cell_type": "code",
   "execution_count": 4,
   "metadata": {},
   "outputs": [
    {
     "data": {
      "text/plain": [
       "[]"
      ]
     },
     "metadata": {},
     "output_type": "display_data"
    }
   ],
   "source": [
    "a = torch.randn(1, 4, 4, 9)\n",
    "abis = torch.randint(low=0, high=9, size=(1, 4, 4))\n",
    "b = torch.randn(1, 4, 4, 9)\n",
    "bbis = torch.randint(low=0, high=9, size=(1, 4, 4))\n",
    "softmax = torch.nn.Softmax(dim=3)\n",
    "a = softmax(a)\n",
    "b = softmax(b)\n",
    "\n",
    "metric = ConfusionMatrix(classes=[f\"test{i}\" for i in range(9)])\n",
    "metric.update(a, abis)\n",
    "metric.update(b, bbis)\n",
    "wandb.log({'confusion_matrix': metric.compute()})\n",
    "metric.reset()\n",
    "display(metric.target)"
   ]
  },
  {
   "cell_type": "code",
   "execution_count": 5,
   "metadata": {},
   "outputs": [
    {
     "data": {
      "text/html": [
       "Waiting for W&B process to finish... <strong style=\"color:green\">(success).</strong>"
      ],
      "text/plain": [
       "<IPython.core.display.HTML object>"
      ]
     },
     "metadata": {},
     "output_type": "display_data"
    },
    {
     "data": {
      "text/html": [
       " View run <strong style=\"color:#cdcd00\">exalted-water-9</strong> at: <a href='https://wandb.ai/urgellbapt/developpement/runs/f8tglpo6' target=\"_blank\">https://wandb.ai/urgellbapt/developpement/runs/f8tglpo6</a><br/>Synced 5 W&B file(s), 1 media file(s), 1 artifact file(s) and 0 other file(s)"
      ],
      "text/plain": [
       "<IPython.core.display.HTML object>"
      ]
     },
     "metadata": {},
     "output_type": "display_data"
    },
    {
     "data": {
      "text/html": [
       "Find logs at: <code>./wandb/run-20230724_224014-f8tglpo6/logs</code>"
      ],
      "text/plain": [
       "<IPython.core.display.HTML object>"
      ]
     },
     "metadata": {},
     "output_type": "display_data"
    }
   ],
   "source": [
    "wandb.finish()"
   ]
  },
  {
   "cell_type": "markdown",
   "metadata": {},
   "source": [
    "# Model"
   ]
  },
  {
   "cell_type": "markdown",
   "metadata": {},
   "source": [
    "## Pytorch"
   ]
  },
  {
   "cell_type": "code",
   "execution_count": 30,
   "metadata": {},
   "outputs": [
    {
     "ename": "TypeError",
     "evalue": "Unet.__init__() got an unexpected keyword argument 'architectures'",
     "output_type": "error",
     "traceback": [
      "\u001b[0;31m---------------------------------------------------------------------------\u001b[0m",
      "\u001b[0;31mTypeError\u001b[0m                                 Traceback (most recent call last)",
      "Cell \u001b[0;32mIn[30], line 9\u001b[0m\n\u001b[1;32m      1\u001b[0m model_params \u001b[39m=\u001b[39m {\n\u001b[1;32m      2\u001b[0m     \u001b[39m'\u001b[39m\u001b[39marchitectures\u001b[39m\u001b[39m'\u001b[39m: \u001b[39m'\u001b[39m\u001b[39mUnet\u001b[39m\u001b[39m'\u001b[39m,\n\u001b[1;32m      3\u001b[0m     \u001b[39m'\u001b[39m\u001b[39mencoder_name\u001b[39m\u001b[39m'\u001b[39m: \u001b[39m\"\u001b[39m\u001b[39mefficientnet-b5\u001b[39m\u001b[39m\"\u001b[39m,\n\u001b[0;32m   (...)\u001b[0m\n\u001b[1;32m      6\u001b[0m     \u001b[39m'\u001b[39m\u001b[39mactivation\u001b[39m\u001b[39m'\u001b[39m: \u001b[39m\"\u001b[39m\u001b[39msoftmax\u001b[39m\u001b[39m\"\u001b[39m\n\u001b[1;32m      7\u001b[0m }\n\u001b[0;32m----> 9\u001b[0m \u001b[39mgetattr\u001b[39;49m(smp, model_params[\u001b[39m'\u001b[39;49m\u001b[39marchitectures\u001b[39;49m\u001b[39m'\u001b[39;49m])(\n\u001b[1;32m     10\u001b[0m     \u001b[39m*\u001b[39;49m\u001b[39m*\u001b[39;49mmodel_params\n\u001b[1;32m     11\u001b[0m )\n",
      "\u001b[0;31mTypeError\u001b[0m: Unet.__init__() got an unexpected keyword argument 'architectures'"
     ]
    }
   ],
   "source": [
    "model_params = {\n",
    "    'architectures': 'Unet',\n",
    "    'encoder_name': \"efficientnet-b5\",\n",
    "    'encoder_weights': \"imagenet\",\n",
    "    'in_channels': 3,\n",
    "    'activation': \"softmax\"\n",
    "}\n",
    "\n",
    "getattr(smp, model_params['architectures'])(\n",
    "    **model_params[]\n",
    ")"
   ]
  },
  {
   "cell_type": "code",
   "execution_count": 7,
   "metadata": {},
   "outputs": [
    {
     "name": "stdout",
     "output_type": "stream",
     "text": [
      "torch.float32 torch.int64\n",
      "tensor([[-0.6487, -0.0743,  0.7115,  0.6750, -0.3831],\n",
      "        [ 1.0901, -0.2194, -0.6861, -1.1891, -0.3441],\n",
      "        [ 0.6746,  1.3344, -0.5492, -0.4880,  0.9297]], requires_grad=True) tensor([[0.0626, 0.0890, 0.3158, 0.4509, 0.0817],\n",
      "        [0.0737, 0.1408, 0.0396, 0.2601, 0.4858],\n",
      "        [0.1004, 0.0194, 0.2513, 0.4363, 0.1926]])\n"
     ]
    }
   ],
   "source": [
    "# Example of target with class indices\n",
    "criterion_weight = torch.as_tensor([1]* 5, dtype=torch.float32)\n",
    "loss = nn.CrossEntropyLoss(weight=criterion_weight)\n",
    "input = torch.randn(3, 5, requires_grad=True)\n",
    "target = torch.empty(3, dtype=torch.long).random_(5)\n",
    "print(input.dtype, target.dtype)\n",
    "output = loss(input, target)\n",
    "output.backward()\n",
    "# Example of target with class probabilities\n",
    "input = torch.randn(3, 5, requires_grad=True)\n",
    "target = torch.randn(3, 5).softmax(dim=1)\n",
    "print(input, target)\n",
    "output = loss(input, target)\n",
    "output.backward()"
   ]
  },
  {
   "cell_type": "code",
   "execution_count": 8,
   "metadata": {},
   "outputs": [
    {
     "data": {
      "text/plain": [
       "torch.int64"
      ]
     },
     "execution_count": 8,
     "metadata": {},
     "output_type": "execute_result"
    }
   ],
   "source": [
    "torch.long"
   ]
  }
 ],
 "metadata": {
  "kernelspec": {
   "display_name": "flair-2-env",
   "language": "python",
   "name": "python3"
  },
  "language_info": {
   "codemirror_mode": {
    "name": "ipython",
    "version": 3
   },
   "file_extension": ".py",
   "mimetype": "text/x-python",
   "name": "python",
   "nbconvert_exporter": "python",
   "pygments_lexer": "ipython3",
   "version": "3.10.12"
  },
  "orig_nbformat": 4
 },
 "nbformat": 4,
 "nbformat_minor": 2
}

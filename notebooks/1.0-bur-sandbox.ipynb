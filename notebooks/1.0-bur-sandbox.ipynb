{
 "cells": [
  {
   "cell_type": "code",
   "execution_count": 12,
   "metadata": {},
   "outputs": [
    {
     "name": "stderr",
     "output_type": "stream",
     "text": [
      "/opt/homebrew/Caskroom/miniconda/base/envs/flair-2-env/lib/python3.10/site-packages/bitsandbytes/cextension.py:34: UserWarning: The installed version of bitsandbytes was compiled without GPU support. 8-bit optimizers, 8-bit multiplication, and GPU quantization are unavailable.\n",
      "  warn(\"The installed version of bitsandbytes was compiled without GPU support. \"\n"
     ]
    },
    {
     "name": "stdout",
     "output_type": "stream",
     "text": [
      "'NoneType' object has no attribute 'cadam32bit_grad_fp32'\n"
     ]
    }
   ],
   "source": [
    "import torch\n",
    "from torch import nn\n",
    "import torchmetrics\n",
    "\n",
    "import wandb\n",
    "\n",
    "import os\n",
    "from glob import glob\n",
    "import json\n",
    "\n",
    "import torch\n",
    "from torch.utils.data import Dataset\n",
    "\n",
    "import rasterio\n",
    "\n",
    "import numpy as np\n",
    "\n",
    "import segmentation_models_pytorch as smp\n",
    "\n",
    "import timm"
   ]
  },
  {
   "cell_type": "markdown",
   "metadata": {},
   "source": [
    "# Confusion matrix WandB"
   ]
  },
  {
   "cell_type": "code",
   "execution_count": 2,
   "metadata": {},
   "outputs": [
    {
     "name": "stderr",
     "output_type": "stream",
     "text": [
      "Failed to detect the name of this notebook, you can set it manually with the WANDB_NOTEBOOK_NAME environment variable to enable code saving.\n",
      "\u001b[34m\u001b[1mwandb\u001b[0m: Currently logged in as: \u001b[33murgellbapt\u001b[0m. Use \u001b[1m`wandb login --relogin`\u001b[0m to force relogin\n"
     ]
    },
    {
     "data": {
      "text/html": [
       "Tracking run with wandb version 0.15.5"
      ],
      "text/plain": [
       "<IPython.core.display.HTML object>"
      ]
     },
     "metadata": {},
     "output_type": "display_data"
    },
    {
     "data": {
      "text/html": [
       "Run data is saved locally in <code>/Users/titou/Documents/flair-2/notebooks/wandb/run-20230724_224014-f8tglpo6</code>"
      ],
      "text/plain": [
       "<IPython.core.display.HTML object>"
      ]
     },
     "metadata": {},
     "output_type": "display_data"
    },
    {
     "data": {
      "text/html": [
       "Syncing run <strong><a href='https://wandb.ai/urgellbapt/developpement/runs/f8tglpo6' target=\"_blank\">exalted-water-9</a></strong> to <a href='https://wandb.ai/urgellbapt/developpement' target=\"_blank\">Weights & Biases</a> (<a href='https://wandb.me/run' target=\"_blank\">docs</a>)<br/>"
      ],
      "text/plain": [
       "<IPython.core.display.HTML object>"
      ]
     },
     "metadata": {},
     "output_type": "display_data"
    },
    {
     "data": {
      "text/html": [
       " View project at <a href='https://wandb.ai/urgellbapt/developpement' target=\"_blank\">https://wandb.ai/urgellbapt/developpement</a>"
      ],
      "text/plain": [
       "<IPython.core.display.HTML object>"
      ]
     },
     "metadata": {},
     "output_type": "display_data"
    },
    {
     "data": {
      "text/html": [
       " View run at <a href='https://wandb.ai/urgellbapt/developpement/runs/f8tglpo6' target=\"_blank\">https://wandb.ai/urgellbapt/developpement/runs/f8tglpo6</a>"
      ],
      "text/plain": [
       "<IPython.core.display.HTML object>"
      ]
     },
     "metadata": {},
     "output_type": "display_data"
    },
    {
     "data": {
      "text/html": [
       "<button onClick=\"this.nextSibling.style.display='block';this.style.display='none';\">Display W&B run</button><iframe src='https://wandb.ai/urgellbapt/developpement/runs/f8tglpo6?jupyter=true' style='border:none;width:100%;height:420px;display:none;'></iframe>"
      ],
      "text/plain": [
       "<wandb.sdk.wandb_run.Run at 0x14356d150>"
      ]
     },
     "execution_count": 2,
     "metadata": {},
     "output_type": "execute_result"
    }
   ],
   "source": [
    "wandb.init(\n",
    "    entity='urgellbapt',\n",
    "    project='developpement',\n",
    "    group='ConfusionMatrix',\n",
    ")"
   ]
  },
  {
   "cell_type": "code",
   "execution_count": 3,
   "metadata": {},
   "outputs": [],
   "source": [
    "class ConfusionMatrix(torchmetrics.Metric):\n",
    "    def __init__(self, classes) -> None:\n",
    "        super().__init__()\n",
    "        \n",
    "        self.target = []\n",
    "        self.preds = []\n",
    "        self.classes = classes\n",
    "    \n",
    "    def update(self, preds, target):\n",
    "        self.target.append(target)\n",
    "        self.preds.append(preds)\n",
    "    \n",
    "    def compute(self):\n",
    "        target = torch.cat(self.target, dim=0)\n",
    "        target = torch.flatten(target)\n",
    "        target = target.tolist()\n",
    "        \n",
    "        preds = torch.cat(self.preds, dim=0)\n",
    "        # preds = torch.argmax(preds, dim=3)\n",
    "        preds = torch.flatten(preds, start_dim=0, end_dim=2)\n",
    "        preds = preds\n",
    "        \n",
    "        return wandb.plot.confusion_matrix(probs=preds, y_true=target, class_names=self.classes)\n",
    "        \n",
    "        \n",
    "    def reset(self):\n",
    "        self.target = []\n",
    "        self.preds = []"
   ]
  },
  {
   "cell_type": "code",
   "execution_count": 4,
   "metadata": {},
   "outputs": [
    {
     "data": {
      "text/plain": [
       "[]"
      ]
     },
     "metadata": {},
     "output_type": "display_data"
    }
   ],
   "source": [
    "a = torch.randn(1, 4, 4, 9)\n",
    "abis = torch.randint(low=0, high=9, size=(1, 4, 4))\n",
    "b = torch.randn(1, 4, 4, 9)\n",
    "bbis = torch.randint(low=0, high=9, size=(1, 4, 4))\n",
    "softmax = torch.nn.Softmax(dim=3)\n",
    "a = softmax(a)\n",
    "b = softmax(b)\n",
    "\n",
    "metric = ConfusionMatrix(classes=[f\"test{i}\" for i in range(9)])\n",
    "metric.update(a, abis)\n",
    "metric.update(b, bbis)\n",
    "wandb.log({'confusion_matrix': metric.compute()})\n",
    "metric.reset()\n",
    "display(metric.target)"
   ]
  },
  {
   "cell_type": "code",
   "execution_count": 5,
   "metadata": {},
   "outputs": [
    {
     "data": {
      "text/html": [
       "Waiting for W&B process to finish... <strong style=\"color:green\">(success).</strong>"
      ],
      "text/plain": [
       "<IPython.core.display.HTML object>"
      ]
     },
     "metadata": {},
     "output_type": "display_data"
    },
    {
     "data": {
      "text/html": [
       " View run <strong style=\"color:#cdcd00\">exalted-water-9</strong> at: <a href='https://wandb.ai/urgellbapt/developpement/runs/f8tglpo6' target=\"_blank\">https://wandb.ai/urgellbapt/developpement/runs/f8tglpo6</a><br/>Synced 5 W&B file(s), 1 media file(s), 1 artifact file(s) and 0 other file(s)"
      ],
      "text/plain": [
       "<IPython.core.display.HTML object>"
      ]
     },
     "metadata": {},
     "output_type": "display_data"
    },
    {
     "data": {
      "text/html": [
       "Find logs at: <code>./wandb/run-20230724_224014-f8tglpo6/logs</code>"
      ],
      "text/plain": [
       "<IPython.core.display.HTML object>"
      ]
     },
     "metadata": {},
     "output_type": "display_data"
    }
   ],
   "source": [
    "wandb.finish()"
   ]
  },
  {
   "cell_type": "markdown",
   "metadata": {},
   "source": [
    "# Model"
   ]
  },
  {
   "cell_type": "markdown",
   "metadata": {},
   "source": [
    "## Pytorch"
   ]
  },
  {
   "cell_type": "code",
   "execution_count": 15,
   "metadata": {},
   "outputs": [],
   "source": [
    "model_params = {\n",
    "    'encoder_name': \"efficientnet-b5\",\n",
    "    'encoder_weights': None,\n",
    "    'in_channels': 3,\n",
    "    'activation': \"softmax\",\n",
    "    'classes': 13\n",
    "}\n",
    "\n",
    "model = smp.Unet(\n",
    "    **model_params\n",
    ")"
   ]
  },
  {
   "cell_type": "code",
   "execution_count": 17,
   "metadata": {},
   "outputs": [
    {
     "name": "stderr",
     "output_type": "stream",
     "text": [
      "/opt/homebrew/Caskroom/miniconda/base/envs/flair-2-env/lib/python3.10/site-packages/segmentation_models_pytorch/base/modules.py:116: UserWarning: Implicit dimension choice for softmax has been deprecated. Change the call to include dim=X as an argument.\n",
      "  return self.activation(x)\n"
     ]
    },
    {
     "data": {
      "text/plain": [
       "torch.Size([1, 13, 256, 256])"
      ]
     },
     "execution_count": 17,
     "metadata": {},
     "output_type": "execute_result"
    }
   ],
   "source": [
    "tensor = torch.randn(1, 3, 256, 256)\n",
    "model(tensor).shape"
   ]
  },
  {
   "cell_type": "code",
   "execution_count": 7,
   "metadata": {},
   "outputs": [
    {
     "name": "stdout",
     "output_type": "stream",
     "text": [
      "torch.float32 torch.int64\n",
      "tensor([[-0.6487, -0.0743,  0.7115,  0.6750, -0.3831],\n",
      "        [ 1.0901, -0.2194, -0.6861, -1.1891, -0.3441],\n",
      "        [ 0.6746,  1.3344, -0.5492, -0.4880,  0.9297]], requires_grad=True) tensor([[0.0626, 0.0890, 0.3158, 0.4509, 0.0817],\n",
      "        [0.0737, 0.1408, 0.0396, 0.2601, 0.4858],\n",
      "        [0.1004, 0.0194, 0.2513, 0.4363, 0.1926]])\n"
     ]
    }
   ],
   "source": [
    "# Example of target with class indices\n",
    "criterion_weight = torch.as_tensor([1]* 5, dtype=torch.float32)\n",
    "loss = nn.CrossEntropyLoss(weight=criterion_weight)\n",
    "input = torch.randn(3, 5, requires_grad=True)\n",
    "target = torch.empty(3, dtype=torch.long).random_(5)\n",
    "print(input.dtype, target.dtype)\n",
    "output = loss(input, target)\n",
    "output.backward()\n",
    "# Example of target with class probabilities\n",
    "input = torch.randn(3, 5, requires_grad=True)\n",
    "target = torch.randn(3, 5).softmax(dim=1)\n",
    "print(input, target)\n",
    "output = loss(input, target)\n",
    "output.backward()"
   ]
  },
  {
   "cell_type": "markdown",
   "metadata": {},
   "source": [
    "# Tiff files"
   ]
  },
  {
   "cell_type": "code",
   "execution_count": 1,
   "metadata": {},
   "outputs": [],
   "source": [
    "import tifffile\n",
    "img = tifffile.imread('../data/raw/train/aerial/D004_2021/Z1_NN/img/IMG_000001.tif')"
   ]
  },
  {
   "cell_type": "code",
   "execution_count": 9,
   "metadata": {},
   "outputs": [],
   "source": [
    "import torch\n",
    "tensor = torch.tensor(img).to(device='mps')\n",
    "img = tensor.numpy(force=True)\n",
    "type(img)\n",
    "tifffile.imwrite(f'PRED_{1}.tif', img)"
   ]
  },
  {
   "cell_type": "code",
   "execution_count": 10,
   "metadata": {},
   "outputs": [
    {
     "name": "stdout",
     "output_type": "stream",
     "text": [
      "torch.Size([3, 30, 30])\n",
      "torch.Size([3, 30, 30])\n",
      "torch.Size([3, 30, 30])\n",
      "torch.Size([3, 30, 30])\n"
     ]
    }
   ],
   "source": [
    "tensor = torch.randn(4, 3, 30, 30)\n",
    "for sub_tensor in tensor:\n",
    "    print(sub_tensor.shape)"
   ]
  },
  {
   "cell_type": "code",
   "execution_count": 4,
   "metadata": {},
   "outputs": [],
   "source": [
    "import tifffile\n",
    "img = tifffile.imread('../submissions/sandy-night-27-krtk1bo0/sandy-night-27-krtk1bo0_a_definir_1666-40/PRED_IMG_085597.tif')"
   ]
  },
  {
   "cell_type": "code",
   "execution_count": 7,
   "metadata": {},
   "outputs": [
    {
     "data": {
      "text/plain": [
       "12"
      ]
     },
     "execution_count": 7,
     "metadata": {},
     "output_type": "execute_result"
    }
   ],
   "source": [
    "img.max()"
   ]
  },
  {
   "cell_type": "code",
   "execution_count": 8,
   "metadata": {},
   "outputs": [
    {
     "data": {
      "text/html": [
       "<div>\n",
       "<style scoped>\n",
       "    .dataframe tbody tr th:only-of-type {\n",
       "        vertical-align: middle;\n",
       "    }\n",
       "\n",
       "    .dataframe tbody tr th {\n",
       "        vertical-align: top;\n",
       "    }\n",
       "\n",
       "    .dataframe thead th {\n",
       "        text-align: right;\n",
       "    }\n",
       "</style>\n",
       "<table border=\"1\" class=\"dataframe\">\n",
       "  <thead>\n",
       "    <tr style=\"text-align: right;\">\n",
       "      <th></th>\n",
       "      <th>Class</th>\n",
       "      <th>Value</th>\n",
       "      <th>Freq.-train (%)</th>\n",
       "      <th>Freq.-test (%)</th>\n",
       "    </tr>\n",
       "  </thead>\n",
       "  <tbody>\n",
       "    <tr>\n",
       "      <th>0</th>\n",
       "      <td>building</td>\n",
       "      <td>1</td>\n",
       "      <td>8.14</td>\n",
       "      <td>3.26</td>\n",
       "    </tr>\n",
       "    <tr>\n",
       "      <th>1</th>\n",
       "      <td>pervious surface</td>\n",
       "      <td>2</td>\n",
       "      <td>8.25</td>\n",
       "      <td>3.82</td>\n",
       "    </tr>\n",
       "    <tr>\n",
       "      <th>2</th>\n",
       "      <td>impervious surface</td>\n",
       "      <td>3</td>\n",
       "      <td>13.72</td>\n",
       "      <td>5.87</td>\n",
       "    </tr>\n",
       "    <tr>\n",
       "      <th>3</th>\n",
       "      <td>bare soil</td>\n",
       "      <td>4</td>\n",
       "      <td>3.47</td>\n",
       "      <td>1.6</td>\n",
       "    </tr>\n",
       "    <tr>\n",
       "      <th>4</th>\n",
       "      <td>water</td>\n",
       "      <td>5</td>\n",
       "      <td>4.88</td>\n",
       "      <td>3.17</td>\n",
       "    </tr>\n",
       "    <tr>\n",
       "      <th>5</th>\n",
       "      <td>coniferous</td>\n",
       "      <td>6</td>\n",
       "      <td>2.74</td>\n",
       "      <td>10.24</td>\n",
       "    </tr>\n",
       "    <tr>\n",
       "      <th>6</th>\n",
       "      <td>deciduous</td>\n",
       "      <td>7</td>\n",
       "      <td>15.38</td>\n",
       "      <td>24.79</td>\n",
       "    </tr>\n",
       "    <tr>\n",
       "      <th>7</th>\n",
       "      <td>brushwood</td>\n",
       "      <td>8</td>\n",
       "      <td>6.95</td>\n",
       "      <td>3.81</td>\n",
       "    </tr>\n",
       "    <tr>\n",
       "      <th>8</th>\n",
       "      <td>vineyard</td>\n",
       "      <td>9</td>\n",
       "      <td>3.13</td>\n",
       "      <td>2.55</td>\n",
       "    </tr>\n",
       "    <tr>\n",
       "      <th>9</th>\n",
       "      <td>herbaceous vegetation</td>\n",
       "      <td>10</td>\n",
       "      <td>17.84</td>\n",
       "      <td>19.76</td>\n",
       "    </tr>\n",
       "    <tr>\n",
       "      <th>10</th>\n",
       "      <td>agricultural land</td>\n",
       "      <td>11</td>\n",
       "      <td>10.98</td>\n",
       "      <td>18.19</td>\n",
       "    </tr>\n",
       "    <tr>\n",
       "      <th>11</th>\n",
       "      <td>plowed land</td>\n",
       "      <td>12</td>\n",
       "      <td>3.88</td>\n",
       "      <td>1.81</td>\n",
       "    </tr>\n",
       "    <tr>\n",
       "      <th>12</th>\n",
       "      <td>swimming pool</td>\n",
       "      <td>13</td>\n",
       "      <td>0.01</td>\n",
       "      <td>0.02</td>\n",
       "    </tr>\n",
       "    <tr>\n",
       "      <th>13</th>\n",
       "      <td>snow</td>\n",
       "      <td>14</td>\n",
       "      <td>0.15</td>\n",
       "      <td>-</td>\n",
       "    </tr>\n",
       "    <tr>\n",
       "      <th>14</th>\n",
       "      <td>clear cut</td>\n",
       "      <td>15</td>\n",
       "      <td>0.15</td>\n",
       "      <td>0.82</td>\n",
       "    </tr>\n",
       "    <tr>\n",
       "      <th>15</th>\n",
       "      <td>mixed</td>\n",
       "      <td>16</td>\n",
       "      <td>0.05</td>\n",
       "      <td>0.12</td>\n",
       "    </tr>\n",
       "    <tr>\n",
       "      <th>16</th>\n",
       "      <td>ligneous</td>\n",
       "      <td>17</td>\n",
       "      <td>0.01</td>\n",
       "      <td>-</td>\n",
       "    </tr>\n",
       "    <tr>\n",
       "      <th>17</th>\n",
       "      <td>greenhouse</td>\n",
       "      <td>18</td>\n",
       "      <td>0.12</td>\n",
       "      <td>0.15</td>\n",
       "    </tr>\n",
       "    <tr>\n",
       "      <th>18</th>\n",
       "      <td>other</td>\n",
       "      <td>19</td>\n",
       "      <td>0.14</td>\n",
       "      <td>0.04</td>\n",
       "    </tr>\n",
       "  </tbody>\n",
       "</table>\n",
       "</div>"
      ],
      "text/plain": [
       "                    Class  Value  Freq.-train (%) Freq.-test (%)\n",
       "0                building      1             8.14           3.26\n",
       "1        pervious surface      2             8.25           3.82\n",
       "2      impervious surface      3            13.72           5.87\n",
       "3               bare soil      4             3.47            1.6\n",
       "4                   water      5             4.88           3.17\n",
       "5              coniferous      6             2.74          10.24\n",
       "6               deciduous      7            15.38          24.79\n",
       "7               brushwood      8             6.95           3.81\n",
       "8                vineyard      9             3.13           2.55\n",
       "9   herbaceous vegetation     10            17.84          19.76\n",
       "10      agricultural land     11            10.98          18.19\n",
       "11            plowed land     12             3.88           1.81\n",
       "12          swimming pool     13             0.01           0.02\n",
       "13                   snow     14             0.15              -\n",
       "14              clear cut     15             0.15           0.82\n",
       "15                  mixed     16             0.05           0.12\n",
       "16               ligneous     17             0.01              -\n",
       "17             greenhouse     18             0.12           0.15\n",
       "18                  other     19             0.14           0.04"
      ]
     },
     "execution_count": 8,
     "metadata": {},
     "output_type": "execute_result"
    }
   ],
   "source": [
    "import pandas as pd\n",
    "\n",
    "df = pd.read_csv('../data/raw/labels-statistics.csv')\n",
    "df"
   ]
  },
  {
   "cell_type": "code",
   "execution_count": 9,
   "metadata": {},
   "outputs": [
    {
     "name": "stdout",
     "output_type": "stream",
     "text": [
      "                    Class  Value  Freq.-train (%)  Freq.-test (%)\n",
      "0                building      1             8.14            3.26\n",
      "1        pervious surface      2             8.25            3.82\n",
      "2      impervious surface      3            13.72            5.87\n",
      "3               bare soil      4             3.47            1.60\n",
      "4                   water      5             4.88            3.17\n",
      "5              coniferous      6             2.74           10.24\n",
      "6               deciduous      7            15.38           24.79\n",
      "7               brushwood      8             6.95            3.81\n",
      "8                vineyard      9             3.13            2.55\n",
      "9   herbaceous vegetation     10            17.84           19.76\n",
      "10      agricultural land     11            10.98           18.19\n",
      "11            plowed land     12             3.88            1.81\n",
      "12                  other     13             0.63            1.15\n"
     ]
    }
   ],
   "source": [
    "df['Freq.-test (%)'] = df['Freq.-test (%)'].replace('-', '0')\n",
    "df['Freq.-test (%)'] = df['Freq.-test (%)'].astype(float)\n",
    "df['Freq.-train (%)'] = df['Freq.-train (%)'].astype(float)\n",
    "df.loc[12, ['Freq.-train (%)', 'Freq.-test (%)']] = df.loc[12:, ['Freq.-train (%)', 'Freq.-test (%)']].sum()\n",
    "df.loc[12, 'Class'] = 'other'\n",
    "df = df.loc[:12]\n",
    "\n",
    "# Display the modified DataFrame\n",
    "print(df)"
   ]
  },
  {
   "cell_type": "code",
   "execution_count": 11,
   "metadata": {},
   "outputs": [
    {
     "data": {
      "text/plain": [
       "Freq.-train (%)     99.99\n",
       "Freq.-test (%)     100.02\n",
       "dtype: float64"
      ]
     },
     "execution_count": 11,
     "metadata": {},
     "output_type": "execute_result"
    }
   ],
   "source": [
    "df.loc[:, ['Freq.-train (%)', 'Freq.-test (%)']].sum()"
   ]
  },
  {
   "cell_type": "code",
   "execution_count": 15,
   "metadata": {},
   "outputs": [],
   "source": [
    "import os \n",
    "os.makedirs('../data/processed/')\n",
    "df.to_csv('../data/processed/labels-statistics.csv')"
   ]
  }
 ],
 "metadata": {
  "kernelspec": {
   "display_name": "flair-2-env",
   "language": "python",
   "name": "python3"
  },
  "language_info": {
   "codemirror_mode": {
    "name": "ipython",
    "version": 3
   },
   "file_extension": ".py",
   "mimetype": "text/x-python",
   "name": "python",
   "nbconvert_exporter": "python",
   "pygments_lexer": "ipython3",
   "version": "3.10.12"
  },
  "orig_nbformat": 4
 },
 "nbformat": 4,
 "nbformat_minor": 2
}

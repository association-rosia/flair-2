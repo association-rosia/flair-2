{
 "cells": [
  {
   "cell_type": "code",
   "execution_count": 1,
   "id": "adb59733",
   "metadata": {},
   "outputs": [],
   "source": [
    "from transformers import AutoImageProcessor, SegformerForSemanticSegmentation\n",
    "from PIL import Image\n",
    "import requests"
   ]
  },
  {
   "cell_type": "code",
   "execution_count": 2,
   "id": "7c7f44a8",
   "metadata": {},
   "outputs": [
    {
     "name": "stderr",
     "output_type": "stream",
     "text": [
      "Some weights of SegformerForSemanticSegmentation were not initialized from the model checkpoint at nvidia/segformer-b0-finetuned-ade-512-512 and are newly initialized because the shapes did not match:\n",
      "- segformer.encoder.patch_embeddings.0.proj.weight: found shape torch.Size([32, 3, 7, 7]) in the checkpoint and torch.Size([32, 5, 7, 7]) in the model instantiated\n",
      "- decode_head.classifier.weight: found shape torch.Size([150, 256, 1, 1]) in the checkpoint and torch.Size([13, 256, 1, 1]) in the model instantiated\n",
      "- decode_head.classifier.bias: found shape torch.Size([150]) in the checkpoint and torch.Size([13]) in the model instantiated\n",
      "You should probably TRAIN this model on a down-stream task to be able to use it for predictions and inference.\n"
     ]
    }
   ],
   "source": [
    "model = SegformerForSemanticSegmentation.from_pretrained(\n",
    "    pretrained_model_name_or_path='nvidia/segformer-b0-finetuned-ade-512-512',\n",
    "    num_channels=5,\n",
    "    num_labels=13,\n",
    "    ignore_mismatched_sizes=True\n",
    ")"
   ]
  },
  {
   "cell_type": "code",
   "execution_count": 9,
   "id": "c9c9d4f5",
   "metadata": {},
   "outputs": [],
   "source": [
    "import os\n",
    "import sys\n",
    "\n",
    "sys.path.append('/Users/louis/Projects/00 - RosIA/flair-2/')\n",
    "\n",
    "from torch.utils.data import DataLoader\n",
    "from src.data.make_dataset import FLAIR2Dataset\n",
    "from src.data.make_dataset import get_list_images\n",
    "\n",
    "from src.constants import get_constants\n",
    "\n",
    "cst = get_constants()\n",
    "\n",
    "path_data = os.path.join('/Users/louis/Projects/00 - RosIA/flair-2/', cst.path_data_train)\n",
    "list_images = get_list_images(path_data)\n",
    "\n",
    "dataset = FLAIR2Dataset(\n",
    "    list_images=list_images,\n",
    "    sen_size=40,\n",
    "    sen_temp_size=3,\n",
    "    sen_temp_reduc='median',\n",
    "    sen_list_bands=['2', '3', '4', '5', '6', '7', '8', '8a', '11', '12'],\n",
    "    prob_cover=10,\n",
    "    is_test=False,\n",
    ")\n",
    "\n",
    "dataloader = DataLoader(\n",
    "    dataset=dataset,\n",
    "    batch_size=2,\n",
    "    shuffle=False,\n",
    ")\n",
    "\n",
    "for image_id, aerial, sen, labels in dataloader:\n",
    "    break"
   ]
  },
  {
   "cell_type": "code",
   "execution_count": 10,
   "id": "58d97a8d",
   "metadata": {},
   "outputs": [
    {
     "data": {
      "text/plain": [
       "torch.Size([2, 5, 512, 512])"
      ]
     },
     "execution_count": 10,
     "metadata": {},
     "output_type": "execute_result"
    }
   ],
   "source": [
    "aerial.shape"
   ]
  },
  {
   "cell_type": "code",
   "execution_count": 16,
   "id": "02a207b5",
   "metadata": {},
   "outputs": [],
   "source": [
    "from torch import nn\n",
    "\n",
    "outputs = model(pixel_values=aerial)\n",
    "logits = outputs.logits\n",
    "\n",
    "upsampled_logits = nn.functional.interpolate(\n",
    "    logits, \n",
    "    size=aerial.shape[-2:], \n",
    "    mode='bilinear', \n",
    "    align_corners=False\n",
    ")"
   ]
  },
  {
   "cell_type": "code",
   "execution_count": 17,
   "id": "7567346f",
   "metadata": {},
   "outputs": [
    {
     "data": {
      "text/plain": [
       "torch.Size([2, 13, 512, 512])"
      ]
     },
     "execution_count": 17,
     "metadata": {},
     "output_type": "execute_result"
    }
   ],
   "source": [
    "upsampled_logits.shape"
   ]
  },
  {
   "cell_type": "code",
   "execution_count": null,
   "id": "da1c97be",
   "metadata": {},
   "outputs": [],
   "source": []
  }
 ],
 "metadata": {
  "kernelspec": {
   "display_name": "flair-2-env",
   "language": "python",
   "name": "flair-2-env"
  },
  "language_info": {
   "codemirror_mode": {
    "name": "ipython",
    "version": 3
   },
   "file_extension": ".py",
   "mimetype": "text/x-python",
   "name": "python",
   "nbconvert_exporter": "python",
   "pygments_lexer": "ipython3",
   "version": "3.10.12"
  }
 },
 "nbformat": 4,
 "nbformat_minor": 5
}

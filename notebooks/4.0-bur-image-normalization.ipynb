{
 "cells": [
  {
   "cell_type": "markdown",
   "metadata": {},
   "source": [
    "# 🌁 Image normalization statistiques"
   ]
  },
  {
   "cell_type": "markdown",
   "metadata": {},
   "source": [
    "# 📚 Libraries"
   ]
  },
  {
   "cell_type": "code",
   "execution_count": 18,
   "metadata": {},
   "outputs": [],
   "source": [
    "import os\n",
    "import rasterio\n",
    "from tqdm.notebook import tqdm\n",
    "from glob import glob\n",
    "import torch\n",
    "import json"
   ]
  },
  {
   "cell_type": "markdown",
   "metadata": {},
   "source": [
    "# 🛩️ Mean & Std for Aerial images"
   ]
  },
  {
   "cell_type": "code",
   "execution_count": 5,
   "metadata": {},
   "outputs": [],
   "source": [
    "def read_tif(path_file):\n",
    "    with rasterio.open(path_file) as f:\n",
    "        image = f.read()\n",
    "        image = torch.from_numpy(image)\n",
    "        image = image.type(torch.uint8)  # from 0 to 255\n",
    "\n",
    "    return image"
   ]
  },
  {
   "cell_type": "code",
   "execution_count": 19,
   "metadata": {},
   "outputs": [],
   "source": [
    "def compute_stats(template_path_image, filename, num_channels):\n",
    "    # Initialize variables to store accumulated pixel values\n",
    "    channel_sum = torch.zeros(num_channels)\n",
    "    channel_squared_diff_sum = torch.zeros(num_channels)\n",
    "    total_pixels = 0\n",
    "\n",
    "    # Iterate over the image paths\n",
    "    list_path_image = glob(template_path_image, recursive=True)\n",
    "    for path_image in tqdm(list_path_image, desc='Compute sum by channel'):\n",
    "        # Open the image\n",
    "        image = read_tif(path_image)\n",
    "        image = image / 255\n",
    "            \n",
    "        # Reshape the image to a 2D array of pixels (height * width, channels)\n",
    "        pixels = image.view(-1, num_channels)\n",
    "        \n",
    "        # Accumulate channel sums\n",
    "        channel_sum += pixels.sum(dim=0)\n",
    "        \n",
    "        # Update the total number of pixels\n",
    "        total_pixels += pixels.shape[0]\n",
    "\n",
    "    # Compute mean values for each channel\n",
    "    channel_mean = channel_sum / total_pixels\n",
    "\n",
    "    for path_image in tqdm(list_path_image, desc='Compute squared diff sum by channel'):\n",
    "        # Open the image\n",
    "        image = read_tif(path_image)\n",
    "        image = image / 255\n",
    "            \n",
    "        # Reshape the image to a 2D array of pixels (height * width, channels)\n",
    "        pixels = image.view(-1, num_channels)\n",
    "        \n",
    "        # Accumulate squared differences from the mean\n",
    "        diff = pixels - channel_mean\n",
    "        channel_squared_diff_sum += (diff * diff).sum(dim=0)\n",
    "\n",
    "    # Compute standard deviation values for each channel\n",
    "    channel_std = torch.sqrt(channel_squared_diff_sum / total_pixels)\n",
    "\n",
    "    dataset_dict = {\n",
    "        'mean': channel_mean.tolist(),\n",
    "        'std': channel_std.tolist()\n",
    "    }\n",
    "\n",
    "    with open(filename, 'w', encoding='UTF8') as f:\n",
    "        json.dump(dataset_dict, f)"
   ]
  },
  {
   "cell_type": "code",
   "execution_count": 20,
   "metadata": {},
   "outputs": [
    {
     "data": {
      "application/vnd.jupyter.widget-view+json": {
       "model_id": "37c1400302df4694a923bc7fbf56c5bc",
       "version_major": 2,
       "version_minor": 0
      },
      "text/plain": [
       "Compute sum by channel:   0%|          | 0/61712 [00:00<?, ?it/s]"
      ]
     },
     "metadata": {},
     "output_type": "display_data"
    },
    {
     "data": {
      "application/vnd.jupyter.widget-view+json": {
       "model_id": "34b6eff5c5454ef7bf10fd0dde9e7c18",
       "version_major": 2,
       "version_minor": 0
      },
      "text/plain": [
       "Compute squared diff sum by channel:   0%|          | 0/61712 [00:00<?, ?it/s]"
      ]
     },
     "metadata": {},
     "output_type": "display_data"
    }
   ],
   "source": [
    "template_path_image = os.path.join(os.pardir, 'data', 'raw', 'train', 'aerial', '**', '*.tif')\n",
    "filename = os.path.join(os.pardir, 'data', 'aerial_pixels_metadata.json')\n",
    "compute_stats(template_path_image, filename, 5)"
   ]
  }
 ],
 "metadata": {
  "kernelspec": {
   "display_name": "flair-2-env",
   "language": "python",
   "name": "python3"
  },
  "language_info": {
   "codemirror_mode": {
    "name": "ipython",
    "version": 3
   },
   "file_extension": ".py",
   "mimetype": "text/x-python",
   "name": "python",
   "nbconvert_exporter": "python",
   "pygments_lexer": "ipython3",
   "version": "3.10.12"
  },
  "orig_nbformat": 4
 },
 "nbformat": 4,
 "nbformat_minor": 2
}
